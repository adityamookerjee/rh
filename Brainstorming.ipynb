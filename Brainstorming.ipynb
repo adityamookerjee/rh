{
 "cells": [
  {
   "cell_type": "markdown",
   "metadata": {},
   "source": [
    "### Robin Healthcare SWE Assignment\n",
    "#### Applicant Wars\n",
    "##### Aditya Mookerjee\n",
    "##### aditya.mookerjee@gmail.com"
   ]
  },
  {
   "cell_type": "code",
   "execution_count": 247,
   "metadata": {},
   "outputs": [],
   "source": [
    "# Imports\n",
    "import pandas as pd\n",
    "import random"
   ]
  },
  {
   "cell_type": "code",
   "execution_count": 335,
   "metadata": {},
   "outputs": [],
   "source": [
    "# Read .CSV\n",
    "df = pd.read_csv('applicants.csv')\n",
    "df.set_index('Name',inplace=True)"
   ]
  },
  {
   "cell_type": "code",
   "execution_count": null,
   "metadata": {},
   "outputs": [],
   "source": []
  },
  {
   "cell_type": "code",
   "execution_count": 229,
   "metadata": {},
   "outputs": [],
   "source": [
    "# Function to randomly pick two applicants\n",
    "def pick_applicants(df):\n",
    "    '''\n",
    "    Input : a Pandas DataFrame\n",
    "    '''\n",
    "    assert df.index.name == \"Name\"\n",
    "    # Drop NAs\n",
    "    df.dropna(inplace=True)\n",
    "    # Count # of rows\n",
    "    num_rows = len(df)\n",
    "    # Pick two applicants (pseudo-random)\n",
    "    applicants = random.sample(set(list(df.index)), 2)\n",
    "    random.shuffle(applicants)\n",
    "    \n",
    "    return applicants"
   ]
  },
  {
   "cell_type": "code",
   "execution_count": null,
   "metadata": {},
   "outputs": [],
   "source": []
  },
  {
   "cell_type": "code",
   "execution_count": 429,
   "metadata": {},
   "outputs": [],
   "source": [
    "# A Class to Represent a Given Applicant\n",
    "# Parent class\n",
    "class Applicant():\n",
    "    '''\n",
    "    Input : A DataFrame Row, applicant name\n",
    "    '''\n",
    "\n",
    "    # Initializer / Instance attributes\n",
    "    def __init__(self,df,applicant_name):\n",
    "        assert df.index.name == \"Name\"\n",
    "        assert applicant_name in list(df.index),'Name is Not in DF!'\n",
    "        dff = df.loc[df.index == applicant_name].copy()\n",
    "        self.name = applicant_name\n",
    "        self.health = list(dff.Health)[0]\n",
    "        self.damage = list(dff.Damage)[0]\n",
    "        self.attacks = list(dff.Attacks)[0]\n",
    "        self.dodge = list(dff.Dodge)[0]\n",
    "        self.critical = list(dff.Critical)[0]\n",
    "        self.initiative = list(dff.Initiative)[0]\n",
    "\n"
   ]
  },
  {
   "cell_type": "code",
   "execution_count": 230,
   "metadata": {},
   "outputs": [],
   "source": [
    "# Pick applicants\n",
    "applicants = pick_applicants(df)\n",
    "# test = Applicant(df,'Tom Cruise')"
   ]
  },
  {
   "cell_type": "code",
   "execution_count": 231,
   "metadata": {},
   "outputs": [
    {
     "data": {
      "text/plain": [
       "['Bob Barker', 'Bill Gates']"
      ]
     },
     "execution_count": 231,
     "metadata": {},
     "output_type": "execute_result"
    }
   ],
   "source": [
    "applicants"
   ]
  },
  {
   "cell_type": "code",
   "execution_count": 336,
   "metadata": {},
   "outputs": [],
   "source": [
    "applicants = ['Candidate 1','Candidate 2']"
   ]
  },
  {
   "cell_type": "code",
   "execution_count": 462,
   "metadata": {},
   "outputs": [],
   "source": [
    "def fight(applicant_pairing):\n",
    "    num_round_steps = max([applicant_pairing[0].attacks,applicant_pairing[1].attacks])\n",
    "    \n",
    "    random.shuffle(applicant_pairing)\n",
    "    a = applicant_pairing[0]\n",
    "    b = applicant_pairing[1]\n",
    "    \n",
    "    a_attacks_original = a.attacks\n",
    "    b_attacks_original = b.attacks\n",
    "    for _ in range(num_round_steps):\n",
    "        if a.attacks > 0 and b.health > 0 and a.health > 0:\n",
    "            print(f'''{a.name} hits {b.name} for {a.damage} damage ({b.health}->{b.health-a.damage})  ''')\n",
    "            a.attacks -= 1\n",
    "            b.health -= a.damage\n",
    "\n",
    "\n",
    "        # B HITS A\n",
    "            # CHECK IF B HAS ATTACKS AND IF A CAN TAKE DAMAGE\n",
    "        if b.attacks > 0 and a.health > 0 and b.health > 0:\n",
    "            print(f'''{b.name} hits {a.name} for {b.damage} damage ({a.health}->{a.health-b.damage})  ''')\n",
    "            b.attacks -= 1\n",
    "            a.health -= b.damage\n",
    "    print('-----------')\n",
    "    a.attacks = a_attacks_original\n",
    "    b.attacks = b_attacks_original\n",
    "    \n",
    "\n",
    "            \n",
    "\n",
    "\n"
   ]
  },
  {
   "cell_type": "code",
   "execution_count": 463,
   "metadata": {},
   "outputs": [
    {
     "name": "stdout",
     "output_type": "stream",
     "text": [
      "Peter Piper hits Tonya Harding for 4 damage (108->104)  \n",
      "Tonya Harding hits Peter Piper for 7 damage (116->109)  \n",
      "Peter Piper hits Tonya Harding for 4 damage (104->100)  \n",
      "Tonya Harding hits Peter Piper for 7 damage (109->102)  \n",
      "Peter Piper hits Tonya Harding for 4 damage (100->96)  \n",
      "Tonya Harding hits Peter Piper for 7 damage (102->95)  \n",
      "Peter Piper hits Tonya Harding for 4 damage (96->92)  \n",
      "Tonya Harding hits Peter Piper for 7 damage (95->88)  \n",
      "Peter Piper hits Tonya Harding for 4 damage (92->88)  \n",
      "Peter Piper hits Tonya Harding for 4 damage (88->84)  \n",
      "-----------\n",
      "Peter Piper hits Tonya Harding for 4 damage (84->80)  \n",
      "Tonya Harding hits Peter Piper for 7 damage (88->81)  \n",
      "Peter Piper hits Tonya Harding for 4 damage (80->76)  \n",
      "Tonya Harding hits Peter Piper for 7 damage (81->74)  \n",
      "Peter Piper hits Tonya Harding for 4 damage (76->72)  \n",
      "Tonya Harding hits Peter Piper for 7 damage (74->67)  \n",
      "Peter Piper hits Tonya Harding for 4 damage (72->68)  \n",
      "Tonya Harding hits Peter Piper for 7 damage (67->60)  \n",
      "Peter Piper hits Tonya Harding for 4 damage (68->64)  \n",
      "Peter Piper hits Tonya Harding for 4 damage (64->60)  \n",
      "-----------\n",
      "Peter Piper hits Tonya Harding for 4 damage (60->56)  \n",
      "Tonya Harding hits Peter Piper for 7 damage (60->53)  \n",
      "Peter Piper hits Tonya Harding for 4 damage (56->52)  \n",
      "Tonya Harding hits Peter Piper for 7 damage (53->46)  \n",
      "Peter Piper hits Tonya Harding for 4 damage (52->48)  \n",
      "Tonya Harding hits Peter Piper for 7 damage (46->39)  \n",
      "Peter Piper hits Tonya Harding for 4 damage (48->44)  \n",
      "Tonya Harding hits Peter Piper for 7 damage (39->32)  \n",
      "Peter Piper hits Tonya Harding for 4 damage (44->40)  \n",
      "Peter Piper hits Tonya Harding for 4 damage (40->36)  \n",
      "-----------\n",
      "Peter Piper hits Tonya Harding for 4 damage (36->32)  \n",
      "Tonya Harding hits Peter Piper for 7 damage (32->25)  \n",
      "Peter Piper hits Tonya Harding for 4 damage (32->28)  \n",
      "Tonya Harding hits Peter Piper for 7 damage (25->18)  \n",
      "Peter Piper hits Tonya Harding for 4 damage (28->24)  \n",
      "Tonya Harding hits Peter Piper for 7 damage (18->11)  \n",
      "Peter Piper hits Tonya Harding for 4 damage (24->20)  \n",
      "Tonya Harding hits Peter Piper for 7 damage (11->4)  \n",
      "Peter Piper hits Tonya Harding for 4 damage (20->16)  \n",
      "Peter Piper hits Tonya Harding for 4 damage (16->12)  \n",
      "-----------\n",
      "Peter Piper hits Tonya Harding for 4 damage (12->8)  \n",
      "Tonya Harding hits Peter Piper for 7 damage (4->-3)  \n",
      "-----------\n",
      "-3 8\n"
     ]
    }
   ],
   "source": [
    "# Duke it Out!\n",
    "\n",
    "applicant_1 = Applicant(df,applicants[0])\n",
    "applicant_2 = Applicant(df,applicants[1])\n",
    "\n",
    "while applicant_1.health > 0 and applicant_2.health > 0:\n",
    "    fight([applicant_1,applicant_2])\n",
    "print(applicant_1.health,applicant_2.health)\n",
    "# fight([applicant_1,applicant_2])\n",
    "# fight([applicant_1,applicant_2])\n",
    "# fight([applicant_1,applicant_2])\n",
    "# fight([applicant_1,applicant_2])\n",
    "# fight([applicant_1,applicant_2])\n"
   ]
  },
  {
   "cell_type": "code",
   "execution_count": 444,
   "metadata": {},
   "outputs": [],
   "source": []
  },
  {
   "cell_type": "code",
   "execution_count": 464,
   "metadata": {},
   "outputs": [],
   "source": [
    "applicant_pairing = list()\n",
    "applicants = pick_applicants(df)\n",
    "for applicant in applicants:\n",
    "    applicant_pairing.append(Applicant(df,applicant))\n",
    "\n",
    "\n",
    "\n"
   ]
  },
  {
   "cell_type": "code",
   "execution_count": 465,
   "metadata": {},
   "outputs": [
    {
     "data": {
      "text/plain": [
       "[<__main__.Applicant at 0x11db6fba8>, <__main__.Applicant at 0x11db6f6a0>]"
      ]
     },
     "execution_count": 465,
     "metadata": {},
     "output_type": "execute_result"
    }
   ],
   "source": [
    "applicant_pairing"
   ]
  },
  {
   "cell_type": "code",
   "execution_count": 466,
   "metadata": {},
   "outputs": [
    {
     "name": "stdout",
     "output_type": "stream",
     "text": [
      "Tonya Harding hits James Earl Jones for 7 damage (175->168)  \n",
      "James Earl Jones hits Tonya Harding for 8 damage (108->100)  \n",
      "Tonya Harding hits James Earl Jones for 7 damage (168->161)  \n",
      "James Earl Jones hits Tonya Harding for 8 damage (100->92)  \n",
      "Tonya Harding hits James Earl Jones for 7 damage (161->154)  \n",
      "James Earl Jones hits Tonya Harding for 8 damage (92->84)  \n",
      "Tonya Harding hits James Earl Jones for 7 damage (154->147)  \n",
      "-----------\n",
      "James Earl Jones hits Tonya Harding for 8 damage (84->76)  \n",
      "Tonya Harding hits James Earl Jones for 7 damage (147->140)  \n",
      "James Earl Jones hits Tonya Harding for 8 damage (76->68)  \n",
      "Tonya Harding hits James Earl Jones for 7 damage (140->133)  \n",
      "James Earl Jones hits Tonya Harding for 8 damage (68->60)  \n",
      "Tonya Harding hits James Earl Jones for 7 damage (133->126)  \n",
      "Tonya Harding hits James Earl Jones for 7 damage (126->119)  \n",
      "-----------\n",
      "Tonya Harding hits James Earl Jones for 7 damage (119->112)  \n",
      "James Earl Jones hits Tonya Harding for 8 damage (60->52)  \n",
      "Tonya Harding hits James Earl Jones for 7 damage (112->105)  \n",
      "James Earl Jones hits Tonya Harding for 8 damage (52->44)  \n",
      "Tonya Harding hits James Earl Jones for 7 damage (105->98)  \n",
      "James Earl Jones hits Tonya Harding for 8 damage (44->36)  \n",
      "Tonya Harding hits James Earl Jones for 7 damage (98->91)  \n",
      "-----------\n",
      "James Earl Jones hits Tonya Harding for 8 damage (36->28)  \n",
      "Tonya Harding hits James Earl Jones for 7 damage (91->84)  \n",
      "James Earl Jones hits Tonya Harding for 8 damage (28->20)  \n",
      "Tonya Harding hits James Earl Jones for 7 damage (84->77)  \n",
      "James Earl Jones hits Tonya Harding for 8 damage (20->12)  \n",
      "Tonya Harding hits James Earl Jones for 7 damage (77->70)  \n",
      "Tonya Harding hits James Earl Jones for 7 damage (70->63)  \n",
      "-----------\n",
      "James Earl Jones hits Tonya Harding for 8 damage (12->4)  \n",
      "Tonya Harding hits James Earl Jones for 7 damage (63->56)  \n",
      "James Earl Jones hits Tonya Harding for 8 damage (4->-4)  \n",
      "-----------\n"
     ]
    }
   ],
   "source": [
    "applicant_1 = applicant_pairing[0]\n",
    "applicant_2 = applicant_pairing[1]\n",
    "\n",
    "while applicant_1.health > 0 and applicant_2.health > 0:\n",
    "    fight([applicant_1,applicant_2])"
   ]
  },
  {
   "cell_type": "code",
   "execution_count": 470,
   "metadata": {},
   "outputs": [
    {
     "data": {
      "text/plain": [
       "-4"
      ]
     },
     "execution_count": 470,
     "metadata": {},
     "output_type": "execute_result"
    }
   ],
   "source": [
    "applicant_1.health"
   ]
  },
  {
   "cell_type": "code",
   "execution_count": 489,
   "metadata": {},
   "outputs": [],
   "source": [
    "def determine_winner(applicants):\n",
    "    '''\n",
    "    Input : List of Two applicants\n",
    "    Returns : Name of Winner\n",
    "    '''\n",
    "    if applicants[0].health > applicants[1].health:\n",
    "        return applicants[0].name\n",
    "    if applicants[1].health > applicants[0].health:\n",
    "        return applicants[1].name"
   ]
  },
  {
   "cell_type": "code",
   "execution_count": 490,
   "metadata": {},
   "outputs": [
    {
     "data": {
      "text/plain": [
       "'James Earl Jones'"
      ]
     },
     "execution_count": 490,
     "metadata": {},
     "output_type": "execute_result"
    }
   ],
   "source": [
    "determine_winner([applicant_1,applicant_2])"
   ]
  },
  {
   "cell_type": "code",
   "execution_count": 481,
   "metadata": {},
   "outputs": [
    {
     "data": {
      "text/plain": [
       "'James Earl Jones'"
      ]
     },
     "execution_count": 481,
     "metadata": {},
     "output_type": "execute_result"
    }
   ],
   "source": [
    "applicant_2.name"
   ]
  },
  {
   "cell_type": "code",
   "execution_count": 491,
   "metadata": {},
   "outputs": [],
   "source": [
    "str1 = 'aaa'\n",
    "str2 = 'bbb'"
   ]
  },
  {
   "cell_type": "code",
   "execution_count": 492,
   "metadata": {},
   "outputs": [],
   "source": [
    "str1 += '\\n'"
   ]
  },
  {
   "cell_type": "code",
   "execution_count": 494,
   "metadata": {},
   "outputs": [],
   "source": [
    "str1 += str2"
   ]
  },
  {
   "cell_type": "code",
   "execution_count": 495,
   "metadata": {},
   "outputs": [
    {
     "data": {
      "text/plain": [
       "'aaa\\nbbb'"
      ]
     },
     "execution_count": 495,
     "metadata": {},
     "output_type": "execute_result"
    }
   ],
   "source": [
    "str1"
   ]
  },
  {
   "cell_type": "code",
   "execution_count": null,
   "metadata": {},
   "outputs": [],
   "source": []
  }
 ],
 "metadata": {
  "kernelspec": {
   "display_name": "Python 3",
   "language": "python",
   "name": "python3"
  },
  "language_info": {
   "codemirror_mode": {
    "name": "ipython",
    "version": 3
   },
   "file_extension": ".py",
   "mimetype": "text/x-python",
   "name": "python",
   "nbconvert_exporter": "python",
   "pygments_lexer": "ipython3",
   "version": "3.7.3"
  }
 },
 "nbformat": 4,
 "nbformat_minor": 2
}
