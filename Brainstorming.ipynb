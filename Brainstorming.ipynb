{
 "cells": [
  {
   "cell_type": "markdown",
   "metadata": {},
   "source": [
    "### Robin Healthcare SWE Assignment\n",
    "#### Applicant Wars\n",
    "##### Aditya Mookerjee\n",
    "##### aditya.mookerjee@gmail.com"
   ]
  },
  {
   "cell_type": "code",
   "execution_count": 247,
   "metadata": {},
   "outputs": [],
   "source": [
    "# Imports\n",
    "import pandas as pd\n",
    "import random"
   ]
  },
  {
   "cell_type": "code",
   "execution_count": 335,
   "metadata": {},
   "outputs": [],
   "source": [
    "# Read .CSV\n",
    "df = pd.read_csv('applicants.csv')\n",
    "df.set_index('Name',inplace=True)"
   ]
  },
  {
   "cell_type": "code",
   "execution_count": null,
   "metadata": {},
   "outputs": [],
   "source": []
  },
  {
   "cell_type": "code",
   "execution_count": 229,
   "metadata": {},
   "outputs": [],
   "source": [
    "# Function to randomly pick two applicants\n",
    "def pick_applicants(df):\n",
    "    '''\n",
    "    Input : a Pandas DataFrame\n",
    "    '''\n",
    "    assert df.index.name == \"Name\"\n",
    "    # Drop NAs\n",
    "    df.dropna(inplace=True)\n",
    "    # Count # of rows\n",
    "    num_rows = len(df)\n",
    "    # Pick two applicants (pseudo-random)\n",
    "    applicants = random.sample(set(list(df.index)), 2)\n",
    "    random.shuffle(applicants)\n",
    "    \n",
    "    return applicants"
   ]
  },
  {
   "cell_type": "code",
   "execution_count": null,
   "metadata": {},
   "outputs": [],
   "source": []
  },
  {
   "cell_type": "code",
   "execution_count": 429,
   "metadata": {},
   "outputs": [],
   "source": [
    "# A Class to Represent a Given Applicant\n",
    "# Parent class\n",
    "class Applicant():\n",
    "    '''\n",
    "    Input : A DataFrame Row, applicant name\n",
    "    '''\n",
    "\n",
    "    # Initializer / Instance attributes\n",
    "    def __init__(self,df,applicant_name):\n",
    "        assert df.index.name == \"Name\"\n",
    "        assert applicant_name in list(df.index),'Name is Not in DF!'\n",
    "        dff = df.loc[df.index == applicant_name].copy()\n",
    "        self.name = applicant_name\n",
    "        self.health = list(dff.Health)[0]\n",
    "        self.damage = list(dff.Damage)[0]\n",
    "        self.attacks = list(dff.Attacks)[0]\n",
    "        self.dodge = list(dff.Dodge)[0]\n",
    "        self.critical = list(dff.Critical)[0]\n",
    "        self.initiative = list(dff.Initiative)[0]\n",
    "\n"
   ]
  },
  {
   "cell_type": "code",
   "execution_count": 230,
   "metadata": {},
   "outputs": [],
   "source": [
    "# Pick applicants\n",
    "applicants = pick_applicants(df)\n",
    "# test = Applicant(df,'Tom Cruise')"
   ]
  },
  {
   "cell_type": "code",
   "execution_count": 231,
   "metadata": {},
   "outputs": [
    {
     "data": {
      "text/plain": [
       "['Bob Barker', 'Bill Gates']"
      ]
     },
     "execution_count": 231,
     "metadata": {},
     "output_type": "execute_result"
    }
   ],
   "source": [
    "applicants"
   ]
  },
  {
   "cell_type": "code",
   "execution_count": 336,
   "metadata": {},
   "outputs": [],
   "source": [
    "applicants = ['Candidate 1','Candidate 2']"
   ]
  },
  {
   "cell_type": "code",
   "execution_count": 516,
   "metadata": {},
   "outputs": [],
   "source": [
    "def fight(round_num, applicant_pairing):\n",
    "    log = pd.DataFrame({\"Round\": [], \"Step\": [], \"Action\": []})\n",
    "    children = list()\n",
    "    num_round_steps = max([applicant_pairing[0].attacks, applicant_pairing[1].attacks])\n",
    "\n",
    "    random.shuffle(applicant_pairing)\n",
    "    a = applicant_pairing[0]\n",
    "    b = applicant_pairing[1]\n",
    "\n",
    "    a_attacks_original = a.attacks\n",
    "    b_attacks_original = b.attacks\n",
    "    for _ in range(num_round_steps):\n",
    "        if a.attacks > 0 and b.health > 0 and a.health > 0:\n",
    "            # print(\n",
    "            #     f'''{a.name} hits {b.name} for {a.damage} damage ({b.health}->{b.health-a.damage})  '''\n",
    "            # )\n",
    "            log = log.append(\n",
    "                {\n",
    "                    \"Round\": round_num,\n",
    "                    \"Step\": _,\n",
    "                    \"Action\": f'''{a.name} hits {b.name} for {a.damage} damage ({b.health}->{b.health-a.damage})  ''',\n",
    "                },\n",
    "                ignore_index=True,\n",
    "            )\n",
    "\n",
    "            a.attacks -= 1\n",
    "            b.health -= a.damage\n",
    "\n",
    "        # B HITS A\n",
    "        # CHECK IF B HAS ATTACKS AND IF A CAN TAKE DAMAGE\n",
    "        if b.attacks > 0 and a.health > 0 and b.health > 0:\n",
    "            # print(\n",
    "            #     f'''{b.name} hits {a.name} for {b.damage} damage ({a.health}->{a.health-b.damage})  '''\n",
    "            # )\n",
    "            log = log.append(\n",
    "                {\n",
    "                    \"Round\": round_num,\n",
    "                    \"Step\": _,\n",
    "                    \"Action\": f'''{b.name} hits {a.name} for {b.damage} damage ({a.health}->{a.health-b.damage})  ''',\n",
    "                },\n",
    "                ignore_index=True,\n",
    "            )\n",
    "\n",
    "            b.attacks -= 1\n",
    "            a.health -= b.damage\n",
    "    a.attacks = a_attacks_original\n",
    "    b.attacks = b_attacks_original\n",
    "    return log"
   ]
  },
  {
   "cell_type": "code",
   "execution_count": 517,
   "metadata": {},
   "outputs": [],
   "source": [
    "def determine_winner(applicants):\n",
    "    '''\n",
    "    Input : List of Two applicants\n",
    "    Returns : Name of Winner\n",
    "    '''\n",
    "    if applicants[0].health > applicants[1].health:\n",
    "        return applicants[0].name\n",
    "    if applicants[1].health > applicants[0].health:\n",
    "        return applicants[1].name"
   ]
  },
  {
   "cell_type": "code",
   "execution_count": null,
   "metadata": {},
   "outputs": [],
   "source": []
  },
  {
   "cell_type": "code",
   "execution_count": 511,
   "metadata": {},
   "outputs": [],
   "source": [
    "applicants = pick_applicants(df)\n",
    "applicant_pairing = list()\n",
    "for applicant in applicants:\n",
    "    applicant_pairing.append(Applicant(df, applicant))\n",
    "applicant_1 = applicant_pairing[0]\n",
    "applicant_2 = applicant_pairing[1]"
   ]
  },
  {
   "cell_type": "code",
   "execution_count": null,
   "metadata": {},
   "outputs": [],
   "source": []
  },
  {
   "cell_type": "code",
   "execution_count": null,
   "metadata": {},
   "outputs": [],
   "source": []
  },
  {
   "cell_type": "code",
   "execution_count": 518,
   "metadata": {},
   "outputs": [
    {
     "data": {
      "text/plain": [
       "[<__main__.Applicant at 0x11db49b00>, <__main__.Applicant at 0x11d59e2b0>]"
      ]
     },
     "execution_count": 518,
     "metadata": {},
     "output_type": "execute_result"
    }
   ],
   "source": [
    "applicant_pairing"
   ]
  },
  {
   "cell_type": "code",
   "execution_count": 522,
   "metadata": {},
   "outputs": [
    {
     "data": {
      "text/plain": [
       "'Harry Potter'"
      ]
     },
     "execution_count": 522,
     "metadata": {},
     "output_type": "execute_result"
    }
   ],
   "source": [
    "\n",
    "round_num = 0\n",
    "while applicant_1.health > 0 and applicant_2.health > 0:\n",
    "    fight(round_num,[applicant_1,applicant_2])\n",
    "    round_num += 1\n",
    "determine_winner(applicant_pairing)"
   ]
  },
  {
   "cell_type": "markdown",
   "metadata": {},
   "source": [
    "# All Applicants"
   ]
  },
  {
   "cell_type": "code",
   "execution_count": 497,
   "metadata": {},
   "outputs": [],
   "source": [
    "from itertools import combinations \n",
    "\n"
   ]
  },
  {
   "cell_type": "code",
   "execution_count": 550,
   "metadata": {},
   "outputs": [],
   "source": []
  },
  {
   "cell_type": "code",
   "execution_count": null,
   "metadata": {},
   "outputs": [],
   "source": []
  },
  {
   "cell_type": "code",
   "execution_count": 559,
   "metadata": {},
   "outputs": [],
   "source": [
    "output = {\"Candidate 1\":[],\"Candidate 2\":[],\"Winner\":[]}\n",
    "comb = combinations(list(df.index),2) \n",
    "for c in comb:\n",
    "    applicants = [c[0],c[1]]\n",
    "    applicant_pairing = list()\n",
    "    for applicant in applicants:\n",
    "        applicant_pairing.append(Applicant(df, applicant))\n",
    "    applicant_1 = applicant_pairing[0]\n",
    "    applicant_2 = applicant_pairing[1]\n",
    "\n",
    "    round_num = 0\n",
    "    while applicant_1.health > 0 and applicant_2.health > 0:\n",
    "        fight(round_num,[applicant_1,applicant_2])\n",
    "        round_num += 1\n",
    "\n",
    "    winner = determine_winner(applicant_pairing)\n",
    "    output[\"Candidate 1\"].append(applicant_1.name)\n",
    "    output[\"Candidate 2\"].append(applicant_2.name)\n",
    "    output[\"Winner\"].append(winner)"
   ]
  },
  {
   "cell_type": "code",
   "execution_count": 560,
   "metadata": {},
   "outputs": [],
   "source": [
    "output = pd.DataFrame(output)"
   ]
  },
  {
   "cell_type": "code",
   "execution_count": null,
   "metadata": {},
   "outputs": [],
   "source": []
  },
  {
   "cell_type": "code",
   "execution_count": 572,
   "metadata": {},
   "outputs": [
    {
     "data": {
      "text/plain": [
       "11"
      ]
     },
     "execution_count": 572,
     "metadata": {},
     "output_type": "execute_result"
    }
   ],
   "source": [
    "output.Winner.describe().freq"
   ]
  },
  {
   "cell_type": "code",
   "execution_count": null,
   "metadata": {},
   "outputs": [],
   "source": [
    "output = {\"Candidate 1\":[],\"Candidate 2\":[],\"Winner\":[]}\n",
    "comb = combinations(list(df.index),2) \n",
    "for c in comb:\n",
    "    applicants = [c[0],c[1]]\n",
    "    applicant_pairing = list()\n",
    "    for applicant in applicants:\n",
    "        applicant_pairing.append(Applicant(df, applicant))\n",
    "    applicant_1 = applicant_pairing[0]\n",
    "    applicant_2 = applicant_pairing[1]\n",
    "\n",
    "    round_num = 0\n",
    "    while applicant_1.health > 0 and applicant_2.health > 0:\n",
    "        fight(round_num,[applicant_1,applicant_2])\n",
    "        round_num += 1\n",
    "\n",
    "    winner = determine_winner(applicant_pairing)\n",
    "    output[\"Candidate 1\"].append(applicant_1.name)\n",
    "    output[\"Candidate 2\"].append(applicant_2.name)\n",
    "    output[\"Winner\"].append(winner)"
   ]
  }
 ],
 "metadata": {
  "kernelspec": {
   "display_name": "Python 3",
   "language": "python",
   "name": "python3"
  },
  "language_info": {
   "codemirror_mode": {
    "name": "ipython",
    "version": 3
   },
   "file_extension": ".py",
   "mimetype": "text/x-python",
   "name": "python",
   "nbconvert_exporter": "python",
   "pygments_lexer": "ipython3",
   "version": "3.7.3"
  }
 },
 "nbformat": 4,
 "nbformat_minor": 2
}
